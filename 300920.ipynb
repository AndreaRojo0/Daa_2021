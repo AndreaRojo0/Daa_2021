{
  "nbformat": 4,
  "nbformat_minor": 0,
  "metadata": {
    "colab": {
      "name": "300920.ipynb",
      "provenance": [],
      "authorship_tag": "ABX9TyPp90jfcQ3C1AsxWjK9PkWf",
      "include_colab_link": true
    },
    "kernelspec": {
      "name": "python3",
      "display_name": "Python 3"
    }
  },
  "cells": [
    {
      "cell_type": "markdown",
      "metadata": {
        "id": "view-in-github",
        "colab_type": "text"
      },
      "source": [
        "<a href=\"https://colab.research.google.com/github/AndreaRojo0/Daa_2021/blob/master/300920.ipynb\" target=\"_parent\"><img src=\"https://colab.research.google.com/assets/colab-badge.svg\" alt=\"Open In Colab\"/></a>"
      ]
    },
    {
      "cell_type": "code",
      "metadata": {
        "id": "1VWmn0_ePpNt"
      },
      "source": [
        ""
      ],
      "execution_count": null,
      "outputs": []
    },
    {
      "cell_type": "markdown",
      "metadata": {
        "id": "B-Wdc0ILP6kb"
      },
      "source": [
        "#Palindromos\n",
        "Es una palabra que se lee de igual forma que un sentido y de sentido inverso.\n",
        "Ejemplos:\n",
        "1. sugus\n",
        "2. oso\n",
        "3. reconocer\n",
        "4. 10101\n",
        "\n",
        "\n",
        "### Planteamiento del problema \n",
        "Se desea encontrar todos los palindromos que se encuentren en la franja horaria de un dia completo, tomando como horario inicial las 00:00 y como horario final 23:59\n",
        "El algoritmo debe mostrr en pantalla todos los palindromos existentes en ese rango, al final  debe mostrar el conteo de total de palindromos existentes."
      ]
    },
    {
      "cell_type": "code",
      "metadata": {
        "id": "e_74ND6qRr96",
        "outputId": "562ac218-8935-4f2e-f691-16acd198cf01",
        "colab": {
          "base_uri": "https://localhost:8080/",
          "height": 459
        }
      },
      "source": [
        "for x in range (0,24,1):\n",
        "  for y in range(0,60,1):\n",
        "    hora=str(x)+\":\"+str(y)\n",
        "    if x<10:\n",
        "      hora=\"0\"+str(x)+\":\"+str(y)\n",
        "    if y<10:\n",
        "      hora=str(x)+\"0\"+\":\"+str(y)\n",
        "\n",
        "    p=hora[::-1]\n",
        "    if  p==hora:\n",
        "      print(f\"{hora} es palindromo\\n\")\n"
      ],
      "execution_count": 6,
      "outputs": [
        {
          "output_type": "stream",
          "text": [
            "01:10 es palindromo\n",
            "\n",
            "02:20 es palindromo\n",
            "\n",
            "03:30 es palindromo\n",
            "\n",
            "04:40 es palindromo\n",
            "\n",
            "05:50 es palindromo\n",
            "\n",
            "11:11 es palindromo\n",
            "\n",
            "12:21 es palindromo\n",
            "\n",
            "13:31 es palindromo\n",
            "\n",
            "14:41 es palindromo\n",
            "\n",
            "15:51 es palindromo\n",
            "\n",
            "21:12 es palindromo\n",
            "\n",
            "22:22 es palindromo\n",
            "\n",
            "23:32 es palindromo\n",
            "\n"
          ],
          "name": "stdout"
        }
      ]
    }
  ]
}