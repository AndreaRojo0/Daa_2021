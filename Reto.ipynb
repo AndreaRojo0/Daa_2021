{
  "nbformat": 4,
  "nbformat_minor": 0,
  "metadata": {
    "colab": {
      "name": "Reto.ipynb",
      "provenance": [],
      "authorship_tag": "ABX9TyOO+iRR5R0MFhiijIKlWE0u",
      "include_colab_link": true
    },
    "kernelspec": {
      "name": "python3",
      "display_name": "Python 3"
    }
  },
  "cells": [
    {
      "cell_type": "markdown",
      "metadata": {
        "id": "view-in-github",
        "colab_type": "text"
      },
      "source": [
        "<a href=\"https://colab.research.google.com/github/AndreaRojo0/Daa_2021/blob/master/Reto.ipynb\" target=\"_parent\"><img src=\"https://colab.research.google.com/assets/colab-badge.svg\" alt=\"Open In Colab\"/></a>"
      ]
    },
    {
      "cell_type": "code",
      "metadata": {
        "id": "6dg5GVjrFZMS",
        "outputId": "d0673648-01ec-4fab-da72-d4eb4a7f73e6",
        "colab": {
          "base_uri": "https://localhost:8080/",
          "height": 129
        }
      },
      "source": [
        "cadena=abcccbba \n",
        "print(\"Estado inicial\")\n",
        "\n",
        "count=0\n",
        "if count==\"a\":\n",
        "    q1()\n",
        "    elif count==\"c\":\n",
        "        q2()\n",
        "\n",
        "\n",
        "if count==\"b\":\n",
        "    q1()\n",
        "    elif count==\"d\":\n",
        "    q2()\n",
        "\n",
        "if count==\"c\":\n",
        "    q1()\n",
        "    elif count==\"a\":\n",
        "    q2()\n",
        "    \n",
        "if count==\"aaa\":\n",
        "    q1()\n",
        "    elif count==\"ccc\":\n",
        "    q2()\n",
        "\n",
        "if count==\"bba\":\n",
        "    q1()\n",
        "    q2()"
      ],
      "execution_count": 10,
      "outputs": [
        {
          "output_type": "error",
          "ename": "SyntaxError",
          "evalue": "ignored",
          "traceback": [
            "\u001b[0;36m  File \u001b[0;32m\"<ipython-input-10-50cab99d784e>\"\u001b[0;36m, line \u001b[0;32m7\u001b[0m\n\u001b[0;31m    elif coun==\"c\":\u001b[0m\n\u001b[0m       ^\u001b[0m\n\u001b[0;31mSyntaxError\u001b[0m\u001b[0;31m:\u001b[0m invalid syntax\n"
          ]
        }
      ]
    }
  ]
}