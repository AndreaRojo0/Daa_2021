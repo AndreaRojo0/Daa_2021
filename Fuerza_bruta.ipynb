{
  "nbformat": 4,
  "nbformat_minor": 0,
  "metadata": {
    "colab": {
      "name": "Fuerza bruta.ipynb",
      "provenance": [],
      "authorship_tag": "ABX9TyM1rYIJJ77mPVIyJ9nvxy+L",
      "include_colab_link": true
    },
    "kernelspec": {
      "name": "python3",
      "display_name": "Python 3"
    }
  },
  "cells": [
    {
      "cell_type": "markdown",
      "metadata": {
        "id": "view-in-github",
        "colab_type": "text"
      },
      "source": [
        "<a href=\"https://colab.research.google.com/github/AndreaRojo0/Daa_2021/blob/master/Fuerza_bruta.ipynb\" target=\"_parent\"><img src=\"https://colab.research.google.com/assets/colab-badge.svg\" alt=\"Open In Colab\"/></a>"
      ]
    },
    {
      "cell_type": "code",
      "metadata": {
        "colab": {
          "base_uri": "https://localhost:8080/"
        },
        "id": "OgJ9vpH_uhr9",
        "outputId": "25d57850-2b5a-423d-c106-4e24b813ef25"
      },
      "source": [
        "tex='El lema que anima a la Universidad Nacional, Por mi raza hablará el espíritu, revela la vocación humanística con la que fue concebida. El autor de esta célebre frase, José Vasconcelos, asumió la rectoría en 1920, en una época en que las esperanzas de la Revolución aún estaban vivas,había una gran fe en la Patria y el ánimo redentor se extendía en el ambiente.'\n",
        "tex1=tex.replace(\",\",\"\")\n",
        "tex2=tex1.replace(\".\",\"\")\n",
        "normalizado=tex2.lower()\n",
        "separado=normalizado.split()\n",
        "comp=separado\n",
        "lista_x=[]\n",
        "for i in separado:\n",
        "  if i not in lista_x:\n",
        "    lista_x.append(i)\n",
        "for palabra in lista_x:\n",
        "  aparicion=0\n",
        "  print(f\"Frecuencia de palabra '{palabra}':\",end=\"\")\n",
        "  for pal2 in comp:\n",
        "    if palabra==pal2:\n",
        "      aparicion=aparicion+1\n",
        "  print(f\"{aparicion}\")"
      ],
      "execution_count": 4,
      "outputs": [
        {
          "output_type": "stream",
          "text": [
            "Frecuencia de palabra 'el':5\n",
            "Frecuencia de palabra 'lema':1\n",
            "Frecuencia de palabra 'que':3\n",
            "Frecuencia de palabra 'anima':1\n",
            "Frecuencia de palabra 'a':1\n",
            "Frecuencia de palabra 'la':6\n",
            "Frecuencia de palabra 'universidad':1\n",
            "Frecuencia de palabra 'nacional':1\n",
            "Frecuencia de palabra 'por':1\n",
            "Frecuencia de palabra 'mi':1\n",
            "Frecuencia de palabra 'raza':1\n",
            "Frecuencia de palabra 'hablará':1\n",
            "Frecuencia de palabra 'espíritu':1\n",
            "Frecuencia de palabra 'revela':1\n",
            "Frecuencia de palabra 'vocación':1\n",
            "Frecuencia de palabra 'humanística':1\n",
            "Frecuencia de palabra 'con':1\n",
            "Frecuencia de palabra 'fue':1\n",
            "Frecuencia de palabra 'concebida':1\n",
            "Frecuencia de palabra 'autor':1\n",
            "Frecuencia de palabra 'de':2\n",
            "Frecuencia de palabra 'esta':1\n",
            "Frecuencia de palabra 'célebre':1\n",
            "Frecuencia de palabra 'frase':1\n",
            "Frecuencia de palabra 'josé':1\n",
            "Frecuencia de palabra 'vasconcelos':1\n",
            "Frecuencia de palabra 'asumió':1\n",
            "Frecuencia de palabra 'rectoría':1\n",
            "Frecuencia de palabra 'en':5\n",
            "Frecuencia de palabra '1920':1\n",
            "Frecuencia de palabra 'una':2\n",
            "Frecuencia de palabra 'época':1\n",
            "Frecuencia de palabra 'las':1\n",
            "Frecuencia de palabra 'esperanzas':1\n",
            "Frecuencia de palabra 'revolución':1\n",
            "Frecuencia de palabra 'aún':1\n",
            "Frecuencia de palabra 'estaban':1\n",
            "Frecuencia de palabra 'vivashabía':1\n",
            "Frecuencia de palabra 'gran':1\n",
            "Frecuencia de palabra 'fe':1\n",
            "Frecuencia de palabra 'patria':1\n",
            "Frecuencia de palabra 'y':1\n",
            "Frecuencia de palabra 'ánimo':1\n",
            "Frecuencia de palabra 'redentor':1\n",
            "Frecuencia de palabra 'se':1\n",
            "Frecuencia de palabra 'extendía':1\n",
            "Frecuencia de palabra 'ambiente':1\n"
          ],
          "name": "stdout"
        }
      ]
    },
    {
      "cell_type": "code",
      "metadata": {
        "id": "FKRB-FFDySDE"
      },
      "source": [
        ""
      ],
      "execution_count": null,
      "outputs": []
    }
  ]
}