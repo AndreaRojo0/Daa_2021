{
  "nbformat": 4,
  "nbformat_minor": 0,
  "metadata": {
    "colab": {
      "name": "Tarea8.ipynb",
      "provenance": [],
      "authorship_tag": "ABX9TyPaiiuKh2/EXRJYGBYc+qcG",
      "include_colab_link": true
    },
    "kernelspec": {
      "name": "python3",
      "display_name": "Python 3"
    }
  },
  "cells": [
    {
      "cell_type": "markdown",
      "metadata": {
        "id": "view-in-github",
        "colab_type": "text"
      },
      "source": [
        "<a href=\"https://colab.research.google.com/github/AndreaRojo0/Daa_2021/blob/master/Tarea8.ipynb\" target=\"_parent\"><img src=\"https://colab.research.google.com/assets/colab-badge.svg\" alt=\"Open In Colab\"/></a>"
      ]
    },
    {
      "cell_type": "code",
      "metadata": {
        "colab": {
          "base_uri": "https://localhost:8080/"
        },
        "id": "4AFF2SsuVRWm",
        "outputId": "af72ead3-3045-4c0f-c7be-52df87f3f71d"
      },
      "source": [
        "def busq_bin_recursiva( L , bus, IZQ , DER):\r\n",
        "    MID = (IZQ + DER) //2\r\n",
        "    if IZQ >= DER:\r\n",
        "        return -1\r\n",
        "    if L[MID] == bus: \r\n",
        "        return MID\r\n",
        "    elif L[MID] < bus:\r\n",
        "        return busq_bin_recursiva(L,bus,MID+1,DER)\r\n",
        "    else:\r\n",
        "        return busq_bin_recursiva(L,bus,IZQ,MID)\r\n",
        "\r\n",
        "alumno1={'id':2, 'nombre':\"Juan\" , 'carrera':\"ICO\", 'promedio':7.67}\r\n",
        "alumno2={'id':4, 'nombre':\"Rocio\" , 'carrera':\"ICI\", 'promedio':8.67}\r\n",
        "alumno3={'id':5, 'nombre':\"Diego\" , 'carrera':\"DER\", 'promedio':8.98}\r\n",
        "alumno4={'id':7, 'nombre':\"May\" , 'carrera':\"ICI\", 'promedio':9.87}\r\n",
        "alumno5={'id':9, 'nombre':\"Rob\" , 'carrera':\"IME\", 'promedio':10.00}\r\n",
        "alumno6={'id':10, 'nombre':\"Santi\" , 'carrera':\"ICO\", 'promedio':5.37}\r\n",
        "alumno7={'id':14, 'nombre':\"Moy\" , 'carrera':\"IME\", 'promedio':6.85}\r\n",
        "alumno8={'id':16, 'nombre':\"Diana\" , 'carrera':\"DER\", 'promedio':9.99}\r\n",
        "alumno9={'id':19, 'nombre':\"Zoila\" , 'carrera':\"ICO\", 'promedio':8.22}\r\n",
        "alumno10={'id':22, 'nombre':\"Armando\" , 'carrera':\"ICO\", 'promedio':7.32}\r\n",
        "\r\n",
        "bd = []\r\n",
        "bd.append(alumno1)\r\n",
        "bd.append(alumno2)\r\n",
        "bd.append(alumno3)\r\n",
        "bd.append(alumno4)\r\n",
        "bd.append(alumno5)\r\n",
        "bd.append(alumno6)\r\n",
        "bd.append(alumno7)\r\n",
        "bd.append(alumno8)\r\n",
        "bd.append(alumno9)\r\n",
        "bd.append(alumno10)\r\n",
        "\r\n",
        "id=[]\r\n",
        "for i in range(0,len(bd)):\r\n",
        "  id_e=bd[i].get('id')\r\n",
        "  id.append(id_e)\r\n",
        "\r\n",
        "id_b=int(input(\"Inserta el id del alumno a buscar: \"))\r\n",
        "alumno=busq_bin_recursiva( id , id_b, 0 , len(bd))\r\n",
        "if alumno==-1:\r\n",
        "  print(\"El alumno no existe en la base de datos.\")\r\n",
        "else:  \r\n",
        "  print(f\"{bd[alumno].get('nombre')} estudia la carrera {bd[alumno].get('carrera')} y tiene un promedio de {bd[alumno].get('promedio')}.\\n\")\r\n",
        "\r\n",
        "repetir=input(\"¿Desea buscar otro id? (S/N): \")  \r\n",
        "while repetir=='s' or repetir=='y' or repetir=='S' or repetir =='si' or repetir=='Si' or repetir=='Sí' or repetir=='yes':\r\n",
        "  id_b=int(input(\"\\nInserta el id del alumno a buscar: \"))\r\n",
        "  alumno=busq_bin_recursiva( id , id_b, 0 , len(bd))\r\n",
        "  if alumno==-1:\r\n",
        "    print(\"El alumno no existe en la base de datos.\\n\")\r\n",
        "  else:  \r\n",
        "    print(f\"{bd[alumno].get('nombre')} estudia la carrera {bd[alumno].get('carrera')} y tiene un promedio de {bd[alumno].get('promedio')}.\\n\")\r\n",
        "\r\n",
        "  repetir=input(\"¿Desea buscar otro id? (S/N): \\n\")"
      ],
      "execution_count": null,
      "outputs": [
        {
          "output_type": "stream",
          "text": [
            "Inserta el id del alumno a buscar: 19\n",
            "Zoila estudia la carrera ICO y tiene un promedio de 8.22.\n",
            "\n"
          ],
          "name": "stdout"
        }
      ]
    }
  ]
}