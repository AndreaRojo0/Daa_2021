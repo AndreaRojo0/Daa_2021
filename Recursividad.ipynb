{
  "nbformat": 4,
  "nbformat_minor": 0,
  "metadata": {
    "colab": {
      "name": "Recursividad.ipynb",
      "provenance": [],
      "authorship_tag": "ABX9TyMOWenO4vXmiowgciSWdXHx",
      "include_colab_link": true
    },
    "kernelspec": {
      "name": "python3",
      "display_name": "Python 3"
    }
  },
  "cells": [
    {
      "cell_type": "markdown",
      "metadata": {
        "id": "view-in-github",
        "colab_type": "text"
      },
      "source": [
        "<a href=\"https://colab.research.google.com/github/AndreaRojo0/Daa_2021/blob/master/Recursividad.ipynb\" target=\"_parent\"><img src=\"https://colab.research.google.com/assets/colab-badge.svg\" alt=\"Open In Colab\"/></a>"
      ]
    },
    {
      "cell_type": "code",
      "metadata": {
        "colab": {
          "base_uri": "https://localhost:8080/"
        },
        "id": "yaCR_GwUL-9y",
        "outputId": "6da49959-7cce-462f-fc7c-16ef7b31b9c5"
      },
      "source": [
        "def recur(num):\n",
        "  print (\"Valor principal: \", num)\n",
        "  if num>1:\n",
        "    num=num*recur(num-1)\n",
        "  print(\"Valor final: \", num)\n",
        "  return num\n",
        "print (recur(20))"
      ],
      "execution_count": 28,
      "outputs": [
        {
          "output_type": "stream",
          "text": [
            "Valor principal:  20\n",
            "Valor principal:  19\n",
            "Valor principal:  18\n",
            "Valor principal:  17\n",
            "Valor principal:  16\n",
            "Valor principal:  15\n",
            "Valor principal:  14\n",
            "Valor principal:  13\n",
            "Valor principal:  12\n",
            "Valor principal:  11\n",
            "Valor principal:  10\n",
            "Valor principal:  9\n",
            "Valor principal:  8\n",
            "Valor principal:  7\n",
            "Valor principal:  6\n",
            "Valor principal:  5\n",
            "Valor principal:  4\n",
            "Valor principal:  3\n",
            "Valor principal:  2\n",
            "Valor principal:  1\n",
            "Valor final:  1\n",
            "Valor final:  2\n",
            "Valor final:  6\n",
            "Valor final:  24\n",
            "Valor final:  120\n",
            "Valor final:  720\n",
            "Valor final:  5040\n",
            "Valor final:  40320\n",
            "Valor final:  362880\n",
            "Valor final:  3628800\n",
            "Valor final:  39916800\n",
            "Valor final:  479001600\n",
            "Valor final:  6227020800\n",
            "Valor final:  87178291200\n",
            "Valor final:  1307674368000\n",
            "Valor final:  20922789888000\n",
            "Valor final:  355687428096000\n",
            "Valor final:  6402373705728000\n",
            "Valor final:  121645100408832000\n",
            "Valor final:  2432902008176640000\n",
            "2432902008176640000\n"
          ],
          "name": "stdout"
        }
      ]
    },
    {
      "cell_type": "code",
      "metadata": {
        "colab": {
          "base_uri": "https://localhost:8080/"
        },
        "id": "TLy7EGNDDdwf",
        "outputId": "2905a983-caf3-4c74-8d1d-9ea4f2573ea1"
      },
      "source": [
        "def cuenta(num):\n",
        "  num-=+1\n",
        "  if num>0:\n",
        "    print (num)\n",
        "    cuenta (num)\n",
        "  else:\n",
        "    print(\"Fin de la funcion\", num)\n",
        "cuenta(10)"
      ],
      "execution_count": 32,
      "outputs": [
        {
          "output_type": "stream",
          "text": [
            "9\n",
            "8\n",
            "7\n",
            "6\n",
            "5\n",
            "4\n",
            "3\n",
            "2\n",
            "1\n",
            "Fin de la funcion 0\n"
          ],
          "name": "stdout"
        }
      ]
    },
    {
      "cell_type": "code",
      "metadata": {
        "colab": {
          "base_uri": "https://localhost:8080/"
        },
        "id": "YZ3YlmtrXF2R",
        "outputId": "8a3d5477-4ea6-43be-b59f-c195558534b9"
      },
      "source": [
        "class Stack:\n",
        "  def __init__(self):\n",
        "    self.__datos=[] #En java se puede meter arraylist\n",
        "\n",
        "  def is_empty(self):\n",
        "    return len(self.__datos)==0\n",
        "\n",
        "  def get_top(self):\n",
        "    return self.__datos[len(self.__datos)-1]\n",
        "\n",
        "  def pop(self):\n",
        "    return self.__datos.pop()\n",
        "\n",
        "  def push(self,valor):\n",
        "    self.__datos.append(valor)\n",
        "\n",
        "  def get_length(self):\n",
        "    return len(self.__datos)\n",
        "\n",
        "  def to_string(self):\n",
        "    print(\"|---------|\")\n",
        "    for i in self.__datos[-1::-1]:\n",
        "      print(i)\n",
        "    print(\"|---------|\")\n",
        "\n",
        "pila =Stack()\n",
        "pila.push(8)\n",
        "pila.push(1)\n",
        "pila.push(3)\n",
        "pila.push(6)\n",
        "pila.push(5)\n",
        "\n",
        "pila.to_string()\n",
        "tamano=pila.get_length()\n",
        "mitad=tamano//2\n",
        "\n",
        "\n",
        "for i in range(0, mitad+1):\n",
        "  numero=pila.pop()\n",
        "print(f\"el número en medio de la pila es: {numero}\")"
      ],
      "execution_count": 43,
      "outputs": [
        {
          "output_type": "stream",
          "text": [
            "|---------|\n",
            "5\n",
            "6\n",
            "3\n",
            "1\n",
            "8\n",
            "|---------|\n",
            "el número en medio de la pila es: 3\n"
          ],
          "name": "stdout"
        }
      ]
    }
  ]
}