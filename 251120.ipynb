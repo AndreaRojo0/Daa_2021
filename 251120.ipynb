{
  "nbformat": 4,
  "nbformat_minor": 0,
  "metadata": {
    "colab": {
      "name": "251120.ipynb",
      "provenance": [],
      "authorship_tag": "ABX9TyPLaocMd8N78NUEDXsHzBoO",
      "include_colab_link": true
    },
    "kernelspec": {
      "name": "python3",
      "display_name": "Python 3"
    }
  },
  "cells": [
    {
      "cell_type": "markdown",
      "metadata": {
        "id": "view-in-github",
        "colab_type": "text"
      },
      "source": [
        "<a href=\"https://colab.research.google.com/github/AndreaRojo0/Daa_2021/blob/master/251120.ipynb\" target=\"_parent\"><img src=\"https://colab.research.google.com/assets/colab-badge.svg\" alt=\"Open In Colab\"/></a>"
      ]
    },
    {
      "cell_type": "code",
      "metadata": {
        "colab": {
          "base_uri": "https://localhost:8080/"
        },
        "id": "71jKw6TwHLQT",
        "outputId": "f6d0a4c1-af58-4590-cca8-d9b3a8463d3e"
      },
      "source": [
        "frase =\"\"\"El lema que anima a la Universidad Nacional, Por mi raza hablará el espíritu, revela la vocación humanística con la que fue concebida. El autor de esta célebre frase, José Vasconcelos, asumió la rectoría en 1920, en una época en que las esperanzas de la Revolución aún estaban vivas,\n",
        " había una gran fe en la Patria y el ánimo redentor se extendía en el ambiente.\"\"\"\n",
        "\n",
        "frase = frase.strip().replace(\"\\n\",\"\").replace(\",\",\"\").replace(\".\",\"\").lower().split(\" \")\n",
        "print(frase)\n",
        "frecuencias ={} \n",
        "for index in range(len(frase)):\n",
        "  print(hash(frase[index]))\n",
        "  if frase[index] in frecuencias:\n",
        "    frecuencias[frase[index]]+=1\n",
        "  else:\n",
        "    frecuencias[frase[index]]=1\n",
        "print(frecuencias)"
      ],
      "execution_count": 3,
      "outputs": [
        {
          "output_type": "stream",
          "text": [
            "['el', 'lema', 'que', 'anima', 'a', 'la', 'universidad', 'nacional', 'por', 'mi', 'raza', 'hablará', 'el', 'espíritu', 'revela', 'la', 'vocación', 'humanística', 'con', 'la', 'que', 'fue', 'concebida', 'el', 'autor', 'de', 'esta', 'célebre', 'frase', 'josé', 'vasconcelos', 'asumió', 'la', 'rectoría', 'en', '1920', 'en', 'una', 'época', 'en', 'que', 'las', 'esperanzas', 'de', 'la', 'revolución', 'aún', 'estaban', 'vivas', 'había', 'una', 'gran', 'fe', 'en', 'la', 'patria', 'y', 'el', 'ánimo', 'redentor', 'se', 'extendía', 'en', 'el', 'ambiente']\n",
            "7820723369861141740\n",
            "4046315199986735302\n",
            "1082194597731002871\n",
            "5766355804447983720\n",
            "6072964547227250964\n",
            "-6073157946193829809\n",
            "-420217951221536408\n",
            "1758716742040316804\n",
            "-30514139765174296\n",
            "4541363862047881420\n",
            "-1632909355694180165\n",
            "-1713955926943576603\n",
            "7820723369861141740\n",
            "-416698167278127811\n",
            "-7428995629264693195\n",
            "-6073157946193829809\n",
            "-2079226647711425492\n",
            "-1594448096729006584\n",
            "9165102116228852712\n",
            "-6073157946193829809\n",
            "1082194597731002871\n",
            "7601866067174255067\n",
            "818784989590162704\n",
            "7820723369861141740\n",
            "-8407924110440974977\n",
            "-3431923631173411445\n",
            "8134838482117639034\n",
            "2494560189783289068\n",
            "5527579135653955005\n",
            "-6071483390529110676\n",
            "2336375285166944329\n",
            "4960193788497269987\n",
            "-6073157946193829809\n",
            "-6935647203364367429\n",
            "7668002407159994123\n",
            "-7746681631900101441\n",
            "7668002407159994123\n",
            "-2364348701007452897\n",
            "4571347343666493560\n",
            "7668002407159994123\n",
            "1082194597731002871\n",
            "-8599889656777702609\n",
            "-4097429819674790699\n",
            "-3431923631173411445\n",
            "-6073157946193829809\n",
            "1890494208600437279\n",
            "-4090735068920197351\n",
            "-400662827498601205\n",
            "-8464703098342772388\n",
            "5530101762962757090\n",
            "-2364348701007452897\n",
            "-8918439377064622320\n",
            "-1746694821160903910\n",
            "7668002407159994123\n",
            "-6073157946193829809\n",
            "-4542637452460092714\n",
            "7783734357544493603\n",
            "7820723369861141740\n",
            "4114472011120409080\n",
            "5128607643978364230\n",
            "7266487623699200129\n",
            "5664178734844826193\n",
            "7668002407159994123\n",
            "7820723369861141740\n",
            "-6258945543637698700\n",
            "{'el': 5, 'lema': 1, 'que': 3, 'anima': 1, 'a': 1, 'la': 6, 'universidad': 1, 'nacional': 1, 'por': 1, 'mi': 1, 'raza': 1, 'hablará': 1, 'espíritu': 1, 'revela': 1, 'vocación': 1, 'humanística': 1, 'con': 1, 'fue': 1, 'concebida': 1, 'autor': 1, 'de': 2, 'esta': 1, 'célebre': 1, 'frase': 1, 'josé': 1, 'vasconcelos': 1, 'asumió': 1, 'rectoría': 1, 'en': 5, '1920': 1, 'una': 2, 'época': 1, 'las': 1, 'esperanzas': 1, 'revolución': 1, 'aún': 1, 'estaban': 1, 'vivas': 1, 'había': 1, 'gran': 1, 'fe': 1, 'patria': 1, 'y': 1, 'ánimo': 1, 'redentor': 1, 'se': 1, 'extendía': 1, 'ambiente': 1}\n"
          ],
          "name": "stdout"
        }
      ]
    }
  ]
}