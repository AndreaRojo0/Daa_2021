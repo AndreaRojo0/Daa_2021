{
  "nbformat": 4,
  "nbformat_minor": 0,
  "metadata": {
    "colab": {
      "name": "Tarea 5.ipynb",
      "provenance": [],
      "authorship_tag": "ABX9TyMJhQXyj5FZQFn2Mylg1TeL",
      "include_colab_link": true
    },
    "kernelspec": {
      "name": "python3",
      "display_name": "Python 3"
    }
  },
  "cells": [
    {
      "cell_type": "markdown",
      "metadata": {
        "id": "view-in-github",
        "colab_type": "text"
      },
      "source": [
        "<a href=\"https://colab.research.google.com/github/AndreaRojo0/Daa_2021/blob/master/Tarea_5.ipynb\" target=\"_parent\"><img src=\"https://colab.research.google.com/assets/colab-badge.svg\" alt=\"Open In Colab\"/></a>"
      ]
    },
    {
      "cell_type": "code",
      "metadata": {
        "id": "cSyyAelLY7IT"
      },
      "source": [
        "def ejemplo2( n ):\n",
        "    contador = 0\n",
        "    for i in range( n ) :\n",
        "        for j in range( n ) :\n",
        "            contador += 1\n",
        "    return contador\n",
        "for entrada in range(100,1100,100):\n",
        "  ejemplo2( 100)"
      ],
      "execution_count": 29,
      "outputs": []
    },
    {
      "cell_type": "code",
      "metadata": {
        "id": "Ebe7Uc29fXXH",
        "outputId": "53806e9e-0c43-45be-8b24-141e96fa34ce",
        "colab": {
          "base_uri": "https://localhost:8080/",
          "height": 187
        }
      },
      "source": [
        "def ejemplo1( n ):\n",
        "    c = n + 1\n",
        "    d = c * n\n",
        "    e = n * n\n",
        "    total = c + e - d\n",
        "    print(f\"total={ total }\")\n",
        "for entrada in range(100,1100,100):\n",
        "  ejemplo1( 100 )"
      ],
      "execution_count": 19,
      "outputs": [
        {
          "output_type": "stream",
          "text": [
            "total=1\n",
            "total=1\n",
            "total=1\n",
            "total=1\n",
            "total=1\n",
            "total=1\n",
            "total=1\n",
            "total=1\n",
            "total=1\n",
            "total=1\n"
          ],
          "name": "stdout"
        }
      ]
    },
    {
      "cell_type": "code",
      "metadata": {
        "id": "KnB8u8d-cgOt"
      },
      "source": [
        "def ejemplo3(n):\n",
        "  x=n*2\n",
        "  y=0\n",
        "  for m in range (100):\n",
        "    y=x-n\n",
        "  return y\n",
        "for entrada in range(100,1100,100):\n",
        "  ejemplo3(100)"
      ],
      "execution_count": 28,
      "outputs": []
    },
    {
      "cell_type": "code",
      "metadata": {
        "id": "d-MMdvYkfjBP",
        "outputId": "17b2a2c2-7576-47a2-ace0-ec808ab0a67a",
        "colab": {
          "base_uri": "https://localhost:8080/",
          "height": 34
        }
      },
      "source": [
        "def ejemplo4( n ):\n",
        "    x = 3 * 3.1416 + n\n",
        "    y = x + 3 * 3 - n\n",
        "    z = x + y\n",
        "    return z\n",
        "for entrada in range(100,1100,100):\n",
        "  ejemplo4(1000)"
      ],
      "execution_count": 21,
      "outputs": [
        {
          "output_type": "execute_result",
          "data": {
            "text/plain": [
              "1027.8496"
            ]
          },
          "metadata": {
            "tags": []
          },
          "execution_count": 21
        }
      ]
    },
    {
      "cell_type": "code",
      "metadata": {
        "id": "bH_XI2-CfchC"
      },
      "source": [
        "def ejemplo3( n ): # n=4\n",
        "    x = n * 2 # x = 8\n",
        "    y = 0   # y = 0\n",
        "    for m in range( 100 ): #3\n",
        "        y = x - n   # y = 4\n",
        "    return y\n",
        "for entrada in range(100,1100,100):\n",
        "  ejemplo3(100)"
      ],
      "execution_count": 27,
      "outputs": []
    },
    {
      "cell_type": "code",
      "metadata": {
        "id": "fsMfgWDQiatB",
        "outputId": "169cb25f-baa1-41a8-d765-ec8978bb39b8",
        "colab": {
          "base_uri": "https://localhost:8080/",
          "height": 187
        }
      },
      "source": [
        "def ejemplo6( n ):\n",
        "    data=[[[1 for x in range(n)] for x in range(n)]\n",
        "          for x in range(n)]\n",
        "    suma = 0\n",
        "    for d in range(n):\n",
        "        for r in range(n):\n",
        "            for c in range(n):\n",
        "                suma += data[d][r][c]\n",
        "    return suma\n",
        "for entrada in range(100,1100,100):\n",
        "  print(ejemplo6( 100 ))"
      ],
      "execution_count": 24,
      "outputs": [
        {
          "output_type": "stream",
          "text": [
            "1000000\n",
            "1000000\n",
            "1000000\n",
            "1000000\n",
            "1000000\n",
            "1000000\n",
            "1000000\n",
            "1000000\n",
            "1000000\n",
            "1000000\n"
          ],
          "name": "stdout"
        }
      ]
    },
    {
      "cell_type": "code",
      "metadata": {
        "id": "z6rK3Z7wnwZp",
        "outputId": "178064f0-bd7d-4584-d1cd-8296904249e1",
        "colab": {
          "base_uri": "https://localhost:8080/",
          "height": 187
        }
      },
      "source": [
        "from time import time\n",
        "def ejemplo6( n ):\n",
        "    start_time = time()\n",
        "    data=[[[1 for x in range(n)] for x in range(n)] \n",
        "          for x in range(n)]\n",
        "    suma = 0\n",
        "    for d in range(n):\n",
        "        for r in range(n):\n",
        "            for c in range(n):\n",
        "                suma += data[d][r][c]\n",
        "    elapsed_time = time() - start_time\n",
        "    print(\"Tiempo transcurrido: %0.10f segundos.\" % elapsed_time)\n",
        "    return suma\n",
        "for entrada in range(100,1100,100):\n",
        "  ejemplo6( 100 )"
      ],
      "execution_count": 25,
      "outputs": [
        {
          "output_type": "stream",
          "text": [
            "Tiempo transcurrido: 0.0990896225 segundos.\n",
            "Tiempo transcurrido: 0.0929245949 segundos.\n",
            "Tiempo transcurrido: 0.0905144215 segundos.\n",
            "Tiempo transcurrido: 0.0992875099 segundos.\n",
            "Tiempo transcurrido: 0.0931668282 segundos.\n",
            "Tiempo transcurrido: 0.1021361351 segundos.\n",
            "Tiempo transcurrido: 0.1021821499 segundos.\n",
            "Tiempo transcurrido: 0.0997438431 segundos.\n",
            "Tiempo transcurrido: 0.0928649902 segundos.\n",
            "Tiempo transcurrido: 0.0942895412 segundos.\n"
          ],
          "name": "stdout"
        }
      ]
    }
  ]
}