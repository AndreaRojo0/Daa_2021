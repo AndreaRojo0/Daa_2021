{
  "nbformat": 4,
  "nbformat_minor": 0,
  "metadata": {
    "colab": {
      "name": "301120.ipynb",
      "provenance": [],
      "authorship_tag": "ABX9TyMi1Iqip8R1mkuOIA2taR1p",
      "include_colab_link": true
    },
    "kernelspec": {
      "name": "python3",
      "display_name": "Python 3"
    }
  },
  "cells": [
    {
      "cell_type": "markdown",
      "metadata": {
        "id": "view-in-github",
        "colab_type": "text"
      },
      "source": [
        "<a href=\"https://colab.research.google.com/github/AndreaRojo0/Daa_2021/blob/master/301120.ipynb\" target=\"_parent\"><img src=\"https://colab.research.google.com/assets/colab-badge.svg\" alt=\"Open In Colab\"/></a>"
      ]
    },
    {
      "cell_type": "code",
      "metadata": {
        "colab": {
          "base_uri": "https://localhost:8080/"
        },
        "id": "w-YVW8kJ26Ei",
        "outputId": "41dad9fd-3b16-449b-b4b0-76f56c591278"
      },
      "source": [
        "A = \"AELASESLALSALSALSALSALSALASLSLSLSLSALALALALASALSALLSALAS\"\n",
        "P = \"LAS\"\n",
        "N = len(A)\n",
        "M = len(P)\n",
        "\n",
        "def fuerza_bruta( A , P ):\n",
        "    for i in range( N-M+1 ):\n",
        "        for j in range( M ):\n",
        "            if A[i+j] != P[j]:\n",
        "                break\n",
        "            else:\n",
        "                pass\n",
        "        if j+1 == M and A[ i + j] == P[j]:\n",
        "            print(\"Encontrado en la posicion:\",i)\n",
        "\n",
        "fuerza_bruta(A,P)"
      ],
      "execution_count": 1,
      "outputs": [
        {
          "output_type": "stream",
          "text": [
            "Encontrado en la posicion: 2\n",
            "Encontrado en la posicion: 24\n",
            "Encontrado en la posicion: 42\n",
            "Encontrado en la posicion: 53\n"
          ],
          "name": "stdout"
        }
      ]
    }
  ]
}