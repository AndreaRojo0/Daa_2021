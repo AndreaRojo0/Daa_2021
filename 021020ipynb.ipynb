{
  "nbformat": 4,
  "nbformat_minor": 0,
  "metadata": {
    "colab": {
      "name": "021020ipynb",
      "provenance": [],
      "authorship_tag": "ABX9TyOW/bEzOevXPQbejFTG4xTh",
      "include_colab_link": true
    },
    "kernelspec": {
      "name": "python3",
      "display_name": "Python 3"
    }
  },
  "cells": [
    {
      "cell_type": "markdown",
      "metadata": {
        "id": "view-in-github",
        "colab_type": "text"
      },
      "source": [
        "<a href=\"https://colab.research.google.com/github/AndreaRojo0/Daa_2021/blob/master/021020ipynb.ipynb\" target=\"_parent\"><img src=\"https://colab.research.google.com/assets/colab-badge.svg\" alt=\"Open In Colab\"/></a>"
      ]
    },
    {
      "cell_type": "code",
      "metadata": {
        "id": "GPGWbCovh-Sz"
      },
      "source": [
        ""
      ],
      "execution_count": null,
      "outputs": []
    },
    {
      "cell_type": "markdown",
      "metadata": {
        "id": "iyWbrzglh_QF"
      },
      "source": [
        "## Meteorología en México\n",
        "En Sistema meteorológico nacional lleva el registro de la lluvias desde el año 1985 y lo pone a disposición de la población por medio de la pagina datos.gob.mx.\n",
        "\n",
        "En la siguiente liga se encuentran 2  archivos separados por comas CSV correspondientes a los registros de lluvias\n",
        "mensuales y anuales de los años 2017 y 2018. En los columnas se encuentran 13,  correspondientes al promedio mensual y el promedio anual.\n",
        "En los renglones se encuentran 33, correspondientes a cada uno de los 32 estados y a nivel nacional.\n",
        "\n",
        "https://drive.google.com/file/d/1lamkxgq2AsXRu81Y4JTNXLVld4og7nxt/view?usp=sharing\n",
        "\n",
        "\n",
        "## Planteamiento del problema\n",
        "Diseñar un algoritmo y programarlo para que:\n",
        "1. Solicite por teclado el año, el estado y el mes, en base a esa información:\n",
        "- muestre en pantalla el promedio de ese mes en ese estado en el año seleccionado.\n",
        "- muestre en pantalla el promedio anual del  estado seleccionado.\n",
        "- muestre la suma de los 12 meses de ese estado en el año selecc\n",
        "ionado.\n",
        "\n",
        "2. Busque el mes que mas llovió en todos los estados durante esos dos años. Imprimir año, estado y mes.\n",
        "3. Busque el mes que menos llovió en los dos. Imprimir año, estado y mes."
      ]
    },
    {
      "cell_type": "code",
      "metadata": {
        "id": "tYeVrV_JmXze",
        "outputId": "d964c668-2d34-454d-fc0b-e27fe8569d53",
        "colab": {
          "base_uri": "https://localhost:8080/",
          "height": 129
        }
      },
      "source": [
        "import xlrd\n",
        "\n",
        "documento = xlrd.open_workbook(\"2017Precipitacion.xlsx\")\n",
        "documento = xlrd.open_workbook(\"2018Precipitacion.xlsx\")\n",
        "\n",
        "\n",
        "año=input(\"¿ En que año quieres trabajar, 2017 o 2018? \")\n",
        "estado=input(\"¿ En que estado quieres trabajar?\")\n",
        "mes=input(\"¿ En que mes quieres trabajar? \")\n",
        "print(f\"Se trabajara con el año {año}, en el estado{estado} y con el mes {mes}\")\n",
        " \n",
        "filas_2018Precipitacion = 2018Precipitacion.nrows\n",
        "columnas_2018Precipitacion = 2018Precipitacion.ncols\n",
        "print(\"Libros tiene \" + str(filas_2018Precipitacion) + \" filas y \" + str(columnas_2018Precipitacion) + \" columnas\")\n",
        "\n",
        " "
      ],
      "execution_count": 16,
      "outputs": [
        {
          "output_type": "error",
          "ename": "SyntaxError",
          "evalue": "ignored",
          "traceback": [
            "\u001b[0;36m  File \u001b[0;32m\"<ipython-input-16-5c1ea67901e0>\"\u001b[0;36m, line \u001b[0;32m12\u001b[0m\n\u001b[0;31m    filas_2018Precipitacion = 2018Precipitacion.nrows\u001b[0m\n\u001b[0m                                              ^\u001b[0m\n\u001b[0;31mSyntaxError\u001b[0m\u001b[0;31m:\u001b[0m invalid syntax\n"
          ]
        }
      ]
    }
  ]
}