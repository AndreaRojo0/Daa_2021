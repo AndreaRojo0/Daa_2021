{
  "nbformat": 4,
  "nbformat_minor": 0,
  "metadata": {
    "colab": {
      "name": "051020.ipynb",
      "provenance": [],
      "authorship_tag": "ABX9TyPOk+w5yMpDQ4TGH+JTp7a0",
      "include_colab_link": true
    },
    "kernelspec": {
      "name": "python3",
      "display_name": "Python 3"
    }
  },
  "cells": [
    {
      "cell_type": "markdown",
      "metadata": {
        "id": "view-in-github",
        "colab_type": "text"
      },
      "source": [
        "<a href=\"https://colab.research.google.com/github/AndreaRojo0/Daa_2021/blob/master/051020.ipynb\" target=\"_parent\"><img src=\"https://colab.research.google.com/assets/colab-badge.svg\" alt=\"Open In Colab\"/></a>"
      ]
    },
    {
      "cell_type": "code",
      "metadata": {
        "id": "zStiY1oN_uHA"
      },
      "source": [
        ""
      ],
      "execution_count": null,
      "outputs": []
    },
    {
      "cell_type": "markdown",
      "metadata": {
        "id": "XJ_kOCuvAGxn"
      },
      "source": [
        "#Estructure de datos Pila (Stack)\n",
        "-Last in First Out\n",
        "-De tipo lineal\n",
        "-Se pueden obtener e ingresar datos desde el tope\n",
        "-Push agregar\n",
        "-Pop remover\n",
        "\n",
        "\n",
        "##Operaciones de las pilas \n",
        "1. is_empty (regresa true o false)\n",
        "2. get_top (regresa eñ elemento en el tope sin sacarlo)\n",
        "3. poo (saca el elemnto del tope y lo regresa)\n",
        "4. push (mete un elemnto en el tope)\n",
        "5. get_length (regresa el numero de elemnto de la pila)"
      ]
    },
    {
      "cell_type": "code",
      "metadata": {
        "id": "xDemwpglCkIp"
      },
      "source": [
        "class Stack:\n",
        "  def__init__(self):\n",
        "    self.__datos=[]\n",
        "\n",
        "\n",
        "  def is_empty(self):\n",
        "    return len(self._datos)==0\n",
        "\n",
        "  def get_top(self):\n",
        "    return self._datos[-1]\n",
        "\n",
        "  def pop(self):\n",
        "    self._datos.pop()\n",
        "\n",
        "  def push(self,valor):\n",
        "    self._datos.append(valor)\n",
        "\n",
        "  def get_lenght(self):\n",
        "    return len(self._datos)\n",
        "\n",
        "  def to_sgtring(self):\n",
        "    print(\"|-------------|\")\n",
        "    for ele in self._datos[-1::-1]:\n",
        "      print(f\"{ele}\")\n",
        "      print(\"|-------------|\\n\")"
      ],
      "execution_count": null,
      "outputs": []
    },
    {
      "cell_type": "code",
      "metadata": {
        "id": "Bu6NM8SwD-Am"
      },
      "source": [
        "pila1 = Stack()\n",
        "pila1.push(10)\n",
        "pila1.push(20)\n",
        "pila1.push(1)\n",
        "pila1.push(393)\n",
        "pila1.push(103)\n",
        "pila1.to_string()\n",
        "\n",
        "sacado=pila1.pop()\n",
        "print(sacado)\n",
        "pila1.to_string()\n",
        "\n",
        "\n",
        "pila1.push(444)\n",
        "pila1.push(233)\n",
        "pila1.to_string()\n",
        "\n",
        "print(f\"El elemento en el top es : {pila1.get_top()}\")\n",
        "pila1.to_string()print(f\"La pila tiene{pila1.get_lenght()} elementos\")\n",
        "print(f\"¿La pila esta vacia?:{pila1.is_empty()}\")"
      ],
      "execution_count": null,
      "outputs": []
    },
    {
      "cell_type": "markdown",
      "metadata": {
        "id": "AYMvQxhCIxuy"
      },
      "source": [
        "#Ejemplo de aplicacion de pilas\n",
        "\n",
        "x= 4+5+6+3\n",
        "\n",
        "x= 4+(5+6)+3\n",
        "\n",
        "x= 4+(5+6)+3\n",
        "\n",
        "if(a==b){System.out.println(b)\n",
        "\n",
        "if(a==b){System.out.println(b}\n",
        "\n",
        "#reglas\n",
        "### '(' -------> push(\"@\")\n",
        "###  ')'  -----> pop()\n",
        "\n",
        "Si al final del recorrido de la pila esta vacia, entonces la cadena es correcta.\n",
        "\n",
        "\n",
        "Si en un pop desencadena en querer sacar un elemento de la pila vacia significa que la cadena no esta balanceada.\n"
      ]
    }
  ]
}