{
  "nbformat": 4,
  "nbformat_minor": 0,
  "metadata": {
    "colab": {
      "name": "130121.ipynb",
      "provenance": [],
      "collapsed_sections": [],
      "authorship_tag": "ABX9TyN6Y58OJHjGQ5f55ywXpv31",
      "include_colab_link": true
    },
    "kernelspec": {
      "name": "python3",
      "display_name": "Python 3"
    }
  },
  "cells": [
    {
      "cell_type": "markdown",
      "metadata": {
        "id": "view-in-github",
        "colab_type": "text"
      },
      "source": [
        "<a href=\"https://colab.research.google.com/github/AndreaRojo0/Daa_2021/blob/master/130121.ipynb\" target=\"_parent\"><img src=\"https://colab.research.google.com/assets/colab-badge.svg\" alt=\"Open In Colab\"/></a>"
      ]
    },
    {
      "cell_type": "code",
      "metadata": {
        "id": "RCc-7uXxcjlu"
      },
      "source": [
        "class NodoArbol:\r\n",
        "    def __init__( self , dato ,  hijo_izq=None , hijo_der=None):\r\n",
        "        self.dato = dato\r\n",
        "        self.left = hijo_izq\r\n",
        "        self.right = hijo_der"
      ],
      "execution_count": 2,
      "outputs": []
    },
    {
      "cell_type": "code",
      "metadata": {
        "id": "nfLz2-F5V7st"
      },
      "source": [
        "class BinarySearchTree:\r\n",
        "  def __init__(self):\r\n",
        "    self.__root=None\r\n",
        "\r\n",
        "  def insert(self,value):\r\n",
        "    if self.__root==None:\r\n",
        "      self.__root=NodoArbol(value,None,None)\r\n",
        "    else:\r\n",
        "      self.__insert_nodo__(self.__root,value)\r\n",
        "\r\n",
        "  def __insert_nodo__(self,nodo,value):\r\n",
        "    if nodo.dato==value:\r\n",
        "      pass\r\n",
        "    elif value<nodo.dato: #true va a la izq.\r\n",
        "      if nodo.left==None:\r\n",
        "        nodo.left=NodoArbol(value,None,None)\r\n",
        "      else:\r\n",
        "        self.__insert_nodo__(nodo.left, value)\r\n",
        "    else:\r\n",
        "      if nodo.right==None:\r\n",
        "        nodo.left=NodoArbol(value,None,None)\r\n",
        "      else:\r\n",
        "        self.__insert_nodo__(self.__right,value)\r\n",
        "\r\n"
      ],
      "execution_count": 5,
      "outputs": []
    },
    {
      "cell_type": "code",
      "metadata": {
        "id": "tXIIlRScchuy"
      },
      "source": [
        "bst=BinarySeachTree()\r\n",
        "bst.insert(50)\r\n",
        "bst.insert(30)\r\n",
        "bst.insert(20)\r\n",
        "bst.insert(30)"
      ],
      "execution_count": null,
      "outputs": []
    }
  ]
}