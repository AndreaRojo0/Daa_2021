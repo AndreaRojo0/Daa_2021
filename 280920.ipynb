{
  "nbformat": 4,
  "nbformat_minor": 0,
  "metadata": {
    "colab": {
      "name": "Untitled0.ipynb",
      "provenance": [],
      "authorship_tag": "ABX9TyPAAiJkhHgXvJ32lq0bYtpe",
      "include_colab_link": true
    },
    "kernelspec": {
      "name": "python3",
      "display_name": "Python 3"
    }
  },
  "cells": [
    {
      "cell_type": "markdown",
      "metadata": {
        "id": "view-in-github",
        "colab_type": "text"
      },
      "source": [
        "<a href=\"https://colab.research.google.com/github/AndreaRojo0/Daa_2021/blob/master/280920.ipynb\" target=\"_parent\"><img src=\"https://colab.research.google.com/assets/colab-badge.svg\" alt=\"Open In Colab\"/></a>"
      ]
    },
    {
      "cell_type": "code",
      "metadata": {
        "id": "tsNKhNVGC_Zp"
      },
      "source": [
        ""
      ],
      "execution_count": null,
      "outputs": []
    },
    {
      "cell_type": "markdown",
      "metadata": {
        "id": "OSibZcHEDDbM"
      },
      "source": [
        "# Seccion 1\n",
        "\n",
        "en este archivo aprenderemos a programar en python con la herramienta de Googlebcolab research\n",
        "Tambien aprenderemos a guardar nuestros cambios a nuestro repositorio git.hub."
      ]
    },
    {
      "cell_type": "markdown",
      "metadata": {
        "id": "Yr6QsTGNGqxb"
      },
      "source": [
        "# Código de ejemplo \n",
        "`\n",
        "\n",
        "\n",
        "`\n",
        "\n"
      ]
    },
    {
      "cell_type": "code",
      "metadata": {
        "id": "rT-PC-wGHDT3",
        "outputId": "65453969-d1f6-4aa8-9193-fb7c4289326f",
        "colab": {
          "base_uri": "https://localhost:8080/",
          "height": 34
        }
      },
      "source": [
        "frutas=[]\n",
        "frutas.append('Manzana')\n",
        "frutas.append('Piñas')\n",
        "print(frutas)\n",
        "      "
      ],
      "execution_count": null,
      "outputs": [
        {
          "output_type": "stream",
          "text": [
            "['Manzana', 'Piñas']\n"
          ],
          "name": "stdout"
        }
      ]
    },
    {
      "cell_type": "code",
      "metadata": {
        "id": "JP2pBVxhHwv9"
      },
      "source": [
        "archivo=open('prueba_daa.txt','wt')\n",
        "archivo.write('Hola mundo Jupiter')\n",
        "archivo.close()"
      ],
      "execution_count": null,
      "outputs": []
    },
    {
      "cell_type": "markdown",
      "metadata": {
        "id": "c1tOhy8DIMep"
      },
      "source": [
        ""
      ]
    },
    {
      "cell_type": "markdown",
      "metadata": {
        "id": "hNfeOgTcDuD-"
      },
      "source": [
        ""
      ]
    },
    {
      "cell_type": "code",
      "metadata": {
        "id": "6bDYD4jAD1Ny"
      },
      "source": [
        ""
      ],
      "execution_count": null,
      "outputs": []
    }
  ]
}