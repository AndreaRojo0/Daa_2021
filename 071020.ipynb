{
  "nbformat": 4,
  "nbformat_minor": 0,
  "metadata": {
    "colab": {
      "name": "071020.ipynb",
      "provenance": [],
      "authorship_tag": "ABX9TyMt1KUxJp1lTixJL82zOWdj",
      "include_colab_link": true
    },
    "kernelspec": {
      "name": "python3",
      "display_name": "Python 3"
    }
  },
  "cells": [
    {
      "cell_type": "markdown",
      "metadata": {
        "id": "view-in-github",
        "colab_type": "text"
      },
      "source": [
        "<a href=\"https://colab.research.google.com/github/AndreaRojo0/Daa_2021/blob/master/071020.ipynb\" target=\"_parent\"><img src=\"https://colab.research.google.com/assets/colab-badge.svg\" alt=\"Open In Colab\"/></a>"
      ]
    },
    {
      "cell_type": "code",
      "metadata": {
        "id": "6nCeF_UDS6yi"
      },
      "source": [
        ""
      ],
      "execution_count": 25,
      "outputs": []
    },
    {
      "cell_type": "markdown",
      "metadata": {
        "id": "3-QKxdu-S8ps"
      },
      "source": [
        "#Busqueda lineal\n",
        "\n",
        "Dado un conjunto de datos no ordenados, la busqueda lineal consiste en recorrer el conunto de datos desde el inicio al final, moviendose de uno en uno hasta encontrar el elemnto o llegar al final del conjunto\n",
        "\n",
        "datos=[4,18,47,2,34,14,78,12,48,21,31,19,1,3,5]\n",
        "\n",
        "#Busqueda binaria \n",
        "Funciona sobre un conjunto de datos lineal ordenado.\n",
        "Consiste en dividir el conjunto en mitades y buscar en esa mitad, si el elemnto buscado no esta en la mitad, preguntas si el elemento esta a la derecha o a la izquierda.\n",
        "Haces la lista igual a la mitad correspondiente y repites el proceso.\n",
        "\n",
        "L=[1,2,3,4,5,12,14,18,19,21,31,34,47,48,78]\n",
        "DER=longitud(L)-1\n",
        "IZQ=0\n",
        "MID apuntara a la mitad del segmento busqueda\n",
        "buscado: es el valor a buscar\n",
        "\n",
        "1. Hacer DER= longitud(L)-1\n",
        "2.Hacer IZQ=0\n",
        "3.Si izquierda es mayor que derecha  IZQ>DER significa que hay un error de datos \n",
        "4. Calcular MID=int ((IZQ+DER)/2)\n",
        "5. Mientras L(MID)!=buscado hacer\n",
        "6.        - preguntar L[MID]> buscado\n",
        "                - hacer DER= MID\n",
        "          - de lo contrario\n",
        "                - hacer IZQ=MID\n",
        "          - preguntar(DER-IZQ)&2\n",
        "                - MID=(IZQ + ((DER-IZQ)/2))+1\n",
        "          - de lo contrario\n",
        "                - MID=IZQ+((DER-IZQ)/2)\n",
        "7. Return MID \n",
        "\n"
      ]
    },
    {
      "cell_type": "code",
      "metadata": {
        "id": "4L3iHNl_WSNB",
        "outputId": "c0a72b3b-3ca7-4faf-ea5b-4a675c9cf46e",
        "colab": {
          "base_uri": "https://localhost:8080/",
          "height": 350
        }
      },
      "source": [
        "\"\"\"\n",
        "Busqueda lineal busca la posicion del elemnto buscado si se encuentra dentro de la lista \n",
        "regresa -1 si el elemnto buscado no exixte dentro de la lista.\n",
        "\"\"\"\n",
        "\n",
        "def busq_lineal(L, buscado):\n",
        "  indice=-1\n",
        "  contador=0\n",
        "  for idx in range(len(L)):\n",
        "    contador +=1\n",
        "    if L[idx]==buscado:\n",
        "      indice=idx\n",
        "      break\n",
        "      print(f\"numero de comparaciones realizadas={contador}\")\n",
        "  return indice\n",
        "\n",
        "  \"\"\"\n",
        "  Busqueda binearia\n",
        "  \"\"\"\n",
        "\n",
        "def busqueda_binaria(L,buscado):\n",
        "  IZQ=0\n",
        "  DER=len(l)-1\n",
        "  MID=int((IZQ+DER)/2)\n",
        "  if len(L) & 2==0:\n",
        "    MID=(DER//2)+1\n",
        "  else:\n",
        "    MID=DER//3\n",
        "\n",
        "  while(L[MID]!=buscado):\n",
        "    if L[MID]> buscado:\n",
        "      DER=IZQ\n",
        "    else:\n",
        "      IZQ=MID\n",
        "    if (DER-IZQ)&2==0:\n",
        "      MID=(IZQ+((DER-IZQ)//2))+1\n",
        "    else:\n",
        "      MID=IZQ+((DER-IZQ)//2)\n",
        "  return MID\n",
        "\n",
        "\n",
        "\n",
        "\n",
        "def main():\n",
        "  datos:[4,18,47,2,34,14,78,12,48,21,31,19,1,3,5]\n",
        "  dato=int(input(\"Que valor quieres buscar: \"))\n",
        "  resultado=busq_lineal(datos,dato)\n",
        "  print(\"Resultado: \", resultado)\n",
        "  print(\"Busqueda lineal en una lista ordenada\")\n",
        "  datos.sort()\n",
        "  print(datos)\n",
        "  resultado=busq_lineal(datos,dato)\n",
        "  print(\"Resultado: \", resultado)\n",
        "  \n",
        "  print(\"Busqueda binaria\")\n",
        "  posicion=busqueda_binaria(datos,dato)\n",
        "  print(f\"El elemento {dato} esta en la posicion {posicion} de la lista  \")\n",
        "  \n",
        "\n",
        "main()\n",
        "\n"
      ],
      "execution_count": 31,
      "outputs": [
        {
          "output_type": "stream",
          "text": [
            "Que valor quieres buscar: 21\n"
          ],
          "name": "stdout"
        },
        {
          "output_type": "error",
          "ename": "UnboundLocalError",
          "evalue": "ignored",
          "traceback": [
            "\u001b[0;31m---------------------------------------------------------------------------\u001b[0m",
            "\u001b[0;31mUnboundLocalError\u001b[0m                         Traceback (most recent call last)",
            "\u001b[0;32m<ipython-input-31-c99e96ff4d31>\u001b[0m in \u001b[0;36m<module>\u001b[0;34m()\u001b[0m\n\u001b[1;32m     54\u001b[0m \u001b[0;34m\u001b[0m\u001b[0m\n\u001b[1;32m     55\u001b[0m \u001b[0;34m\u001b[0m\u001b[0m\n\u001b[0;32m---> 56\u001b[0;31m \u001b[0mmain\u001b[0m\u001b[0;34m(\u001b[0m\u001b[0;34m)\u001b[0m\u001b[0;34m\u001b[0m\u001b[0;34m\u001b[0m\u001b[0m\n\u001b[0m\u001b[1;32m     57\u001b[0m \u001b[0;34m\u001b[0m\u001b[0m\n",
            "\u001b[0;32m<ipython-input-31-c99e96ff4d31>\u001b[0m in \u001b[0;36mmain\u001b[0;34m()\u001b[0m\n\u001b[1;32m     45\u001b[0m   \u001b[0mdatos\u001b[0m\u001b[0;34m:\u001b[0m\u001b[0;34m[\u001b[0m\u001b[0;36m4\u001b[0m\u001b[0;34m,\u001b[0m\u001b[0;36m18\u001b[0m\u001b[0;34m,\u001b[0m\u001b[0;36m47\u001b[0m\u001b[0;34m,\u001b[0m\u001b[0;36m2\u001b[0m\u001b[0;34m,\u001b[0m\u001b[0;36m34\u001b[0m\u001b[0;34m,\u001b[0m\u001b[0;36m14\u001b[0m\u001b[0;34m,\u001b[0m\u001b[0;36m78\u001b[0m\u001b[0;34m,\u001b[0m\u001b[0;36m12\u001b[0m\u001b[0;34m,\u001b[0m\u001b[0;36m48\u001b[0m\u001b[0;34m,\u001b[0m\u001b[0;36m21\u001b[0m\u001b[0;34m,\u001b[0m\u001b[0;36m31\u001b[0m\u001b[0;34m,\u001b[0m\u001b[0;36m19\u001b[0m\u001b[0;34m,\u001b[0m\u001b[0;36m1\u001b[0m\u001b[0;34m,\u001b[0m\u001b[0;36m3\u001b[0m\u001b[0;34m,\u001b[0m\u001b[0;36m5\u001b[0m\u001b[0;34m]\u001b[0m\u001b[0;34m\u001b[0m\u001b[0;34m\u001b[0m\u001b[0m\n\u001b[1;32m     46\u001b[0m   \u001b[0mdato\u001b[0m\u001b[0;34m=\u001b[0m\u001b[0mint\u001b[0m\u001b[0;34m(\u001b[0m\u001b[0minput\u001b[0m\u001b[0;34m(\u001b[0m\u001b[0;34m\"Que valor quieres buscar: \"\u001b[0m\u001b[0;34m)\u001b[0m\u001b[0;34m)\u001b[0m\u001b[0;34m\u001b[0m\u001b[0;34m\u001b[0m\u001b[0m\n\u001b[0;32m---> 47\u001b[0;31m   \u001b[0mresultado\u001b[0m\u001b[0;34m=\u001b[0m\u001b[0mbusq_lineal\u001b[0m\u001b[0;34m(\u001b[0m\u001b[0mdatos\u001b[0m\u001b[0;34m,\u001b[0m\u001b[0mdato\u001b[0m\u001b[0;34m)\u001b[0m\u001b[0;34m\u001b[0m\u001b[0;34m\u001b[0m\u001b[0m\n\u001b[0m\u001b[1;32m     48\u001b[0m   \u001b[0mprint\u001b[0m\u001b[0;34m(\u001b[0m\u001b[0;34m\"Resultado: \"\u001b[0m\u001b[0;34m,\u001b[0m \u001b[0mresultado\u001b[0m\u001b[0;34m)\u001b[0m\u001b[0;34m\u001b[0m\u001b[0;34m\u001b[0m\u001b[0m\n\u001b[1;32m     49\u001b[0m   \u001b[0mprint\u001b[0m\u001b[0;34m(\u001b[0m\u001b[0;34m\"Busqueda lineal en una lista ordenada\"\u001b[0m\u001b[0;34m)\u001b[0m\u001b[0;34m\u001b[0m\u001b[0;34m\u001b[0m\u001b[0m\n",
            "\u001b[0;31mUnboundLocalError\u001b[0m: local variable 'datos' referenced before assignment"
          ]
        }
      ]
    }
  ]
}